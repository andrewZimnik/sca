{
 "cells": [
  {
   "cell_type": "markdown",
   "metadata": {},
   "source": [
    "# Import packages"
   ]
  },
  {
   "cell_type": "code",
   "execution_count": 1,
   "metadata": {},
   "outputs": [
    {
     "name": "stderr",
     "output_type": "stream",
     "text": [
      "/opt/anaconda3/envs/ssa_sklearn/lib/python3.8/site-packages/tqdm/auto.py:22: TqdmWarning: IProgress not found. Please update jupyter and ipywidgets. See https://ipywidgets.readthedocs.io/en/stable/user_install.html\n",
      "  from .autonotebook import tqdm as notebook_tqdm\n"
     ]
    }
   ],
   "source": [
    "import numpy as np\n",
    "import numpy.random as npr\n",
    "from matplotlib import pyplot as plt\n",
    "%matplotlib inline\n",
    "from scipy.linalg import orth\n",
    "import time\n",
    "\n",
    "from sca.models import SCA, WeightedPCA\n",
    "from sca.util import get_sample_weights, get_accuracy"
   ]
  },
  {
   "cell_type": "code",
   "execution_count": 2,
   "metadata": {},
   "outputs": [],
   "source": [
    "# %load_ext autoreload\n",
    "# %autoreload 2"
   ]
  },
  {
   "cell_type": "markdown",
   "metadata": {},
   "source": [
    "# Simulate data\n",
    "Data is simulated from sparsely occurring latents. This is the same simulated data as in the Example_1pop notebook"
   ]
  },
  {
   "cell_type": "code",
   "execution_count": 3,
   "metadata": {},
   "outputs": [],
   "source": [
    "#Function that creates a sine wave for a given amount of time (T),\n",
    "#where the number of cycles (c) occurs during that time\n",
    "def create_sine(T,c):\n",
    "    tau=T/(2*np.pi)/c\n",
    "    return np.sin(np.arange(0,T)/tau)"
   ]
  },
  {
   "cell_type": "markdown",
   "metadata": {},
   "source": [
    "#### Generate the simulated data X0, which is size [Time x Num_neurons]"
   ]
  },
  {
   "cell_type": "code",
   "execution_count": 4,
   "metadata": {},
   "outputs": [],
   "source": [
    "np.random.seed(0) #To get the same simulated data\n",
    "\n",
    "T=1200 #Time\n",
    "N_neurons=50 #Number of neurons\n",
    "R_sim=7 #Number of dimensions in lowD representations\n",
    "\n",
    "#Orthogonal matrix that projects low dimensional space to full neural space\n",
    "V_tmp=orth(npr.randn(R_sim,N_neurons).T).T \n",
    "\n",
    "#Create low dimensional space\n",
    "Z=np.zeros([T,R_sim])\n",
    "for i in range(7):\n",
    "    Z[150*i:150*i+300,i]=create_sine(300,i+1)\n",
    "\n",
    "#Create high-dimensional neural activity    \n",
    "b=npr.randn(N_neurons) #Offset of neurons\n",
    "X0=Z@V_tmp[:R_sim,:]+b #Project into high-dimensional space and add offset\n",
    "X0=X0+.1*npr.randn(X0.shape[0],X0.shape[1]) #Add noise"
   ]
  },
  {
   "cell_type": "markdown",
   "metadata": {},
   "source": [
    "# Preprocess data (optional)"
   ]
  },
  {
   "cell_type": "markdown",
   "metadata": {},
   "source": [
    "We have found that the method usually works better when zero-centering the data.\n",
    "\n",
    "In this specific example, if you don't zero-center the data, it will take ~10000 iterations to converge to the ground truth, rather than ~2000."
   ]
  },
  {
   "cell_type": "code",
   "execution_count": 6,
   "metadata": {},
   "outputs": [],
   "source": [
    "# X = np.copy(X0)\n",
    "X=np.copy(X0-np.mean(X0,axis=0)[None,:])"
   ]
  },
  {
   "cell_type": "markdown",
   "metadata": {},
   "source": [
    "# Set required model parameters"
   ]
  },
  {
   "cell_type": "code",
   "execution_count": 7,
   "metadata": {},
   "outputs": [],
   "source": [
    "#Number of dimensions in the low-D model you're fitting\n",
    "n_components=8"
   ]
  },
  {
   "cell_type": "markdown",
   "metadata": {},
   "source": [
    "# Fit SCA Model for different sparsity hyperparameters"
   ]
  },
  {
   "cell_type": "markdown",
   "metadata": {},
   "source": [
    "Define sparsity hyperparameters to test"
   ]
  },
  {
   "cell_type": "code",
   "execution_count": 8,
   "metadata": {},
   "outputs": [],
   "source": [
    "#List of sparsity hyperparameters to run the model for\n",
    "lam_sparse_list=list(np.logspace(-4,1,15)) \n",
    "\n",
    "#Lists to collect reults\n",
    "r2_scores=[]\n",
    "reconstruction_losses=[]"
   ]
  },
  {
   "cell_type": "markdown",
   "metadata": {},
   "source": [
    "Fit model at those sparsity hyperparameters. <br>\n",
    "Note that in this notebook, we fit the models with all other optional parameters unspecified (as the default) and without sample weighting"
   ]
  },
  {
   "cell_type": "code",
   "execution_count": 9,
   "metadata": {
    "scrolled": false
   },
   "outputs": [
    {
     "name": "stdout",
     "output_type": "stream",
     "text": [
      "Using lam_orthog=  88.06139559390984\n",
      "Using device cpu\n"
     ]
    },
    {
     "name": "stderr",
     "output_type": "stream",
     "text": [
      "100%|██████████| 3000/3000 [00:03<00:00, 850.92it/s]\n"
     ]
    },
    {
     "name": "stdout",
     "output_type": "stream",
     "text": [
      "Using lam_orthog=  88.00813214458157\n",
      "Using device cpu\n"
     ]
    },
    {
     "name": "stderr",
     "output_type": "stream",
     "text": [
      "100%|██████████| 3000/3000 [00:04<00:00, 621.46it/s]\n"
     ]
    },
    {
     "name": "stdout",
     "output_type": "stream",
     "text": [
      "Using lam_orthog=  88.0164314434398\n",
      "Using device cpu\n"
     ]
    },
    {
     "name": "stderr",
     "output_type": "stream",
     "text": [
      "100%|██████████| 3000/3000 [00:04<00:00, 601.84it/s]\n"
     ]
    },
    {
     "name": "stdout",
     "output_type": "stream",
     "text": [
      "Using lam_orthog=  87.99555275787247\n",
      "Using device cpu\n"
     ]
    },
    {
     "name": "stderr",
     "output_type": "stream",
     "text": [
      "100%|██████████| 3000/3000 [00:04<00:00, 688.78it/s]\n"
     ]
    },
    {
     "name": "stdout",
     "output_type": "stream",
     "text": [
      "Using lam_orthog=  87.98727359567049\n",
      "Using device cpu\n"
     ]
    },
    {
     "name": "stderr",
     "output_type": "stream",
     "text": [
      "100%|██████████| 3000/3000 [00:03<00:00, 824.21it/s]\n"
     ]
    },
    {
     "name": "stdout",
     "output_type": "stream",
     "text": [
      "Using lam_orthog=  88.02830472965023\n",
      "Using device cpu\n"
     ]
    },
    {
     "name": "stderr",
     "output_type": "stream",
     "text": [
      "100%|██████████| 3000/3000 [00:04<00:00, 738.98it/s]\n"
     ]
    },
    {
     "name": "stdout",
     "output_type": "stream",
     "text": [
      "Using lam_orthog=  88.00586980824646\n",
      "Using device cpu\n"
     ]
    },
    {
     "name": "stderr",
     "output_type": "stream",
     "text": [
      "100%|██████████| 3000/3000 [00:03<00:00, 842.08it/s]\n"
     ]
    },
    {
     "name": "stdout",
     "output_type": "stream",
     "text": [
      "Using lam_orthog=  88.02472586355955\n",
      "Using device cpu\n"
     ]
    },
    {
     "name": "stderr",
     "output_type": "stream",
     "text": [
      "100%|██████████| 3000/3000 [00:03<00:00, 778.72it/s]\n"
     ]
    },
    {
     "name": "stdout",
     "output_type": "stream",
     "text": [
      "Using lam_orthog=  87.9711714307063\n",
      "Using device cpu\n"
     ]
    },
    {
     "name": "stderr",
     "output_type": "stream",
     "text": [
      "100%|██████████| 3000/3000 [00:03<00:00, 825.79it/s]\n"
     ]
    },
    {
     "name": "stdout",
     "output_type": "stream",
     "text": [
      "Using lam_orthog=  88.04901340432659\n",
      "Using device cpu\n"
     ]
    },
    {
     "name": "stderr",
     "output_type": "stream",
     "text": [
      "100%|██████████| 3000/3000 [00:03<00:00, 898.49it/s]\n"
     ]
    },
    {
     "name": "stdout",
     "output_type": "stream",
     "text": [
      "Using lam_orthog=  87.9950626793225\n",
      "Using device cpu\n"
     ]
    },
    {
     "name": "stderr",
     "output_type": "stream",
     "text": [
      "100%|██████████| 3000/3000 [00:04<00:00, 702.18it/s]\n"
     ]
    },
    {
     "name": "stdout",
     "output_type": "stream",
     "text": [
      "Using lam_orthog=  87.98286653015698\n",
      "Using device cpu\n"
     ]
    },
    {
     "name": "stderr",
     "output_type": "stream",
     "text": [
      "100%|██████████| 3000/3000 [00:03<00:00, 849.79it/s]\n"
     ]
    },
    {
     "name": "stdout",
     "output_type": "stream",
     "text": [
      "Using lam_orthog=  87.96452632568366\n",
      "Using device cpu\n"
     ]
    },
    {
     "name": "stderr",
     "output_type": "stream",
     "text": [
      "100%|██████████| 3000/3000 [00:03<00:00, 857.17it/s]\n"
     ]
    },
    {
     "name": "stdout",
     "output_type": "stream",
     "text": [
      "Using lam_orthog=  88.01786073924093\n",
      "Using device cpu\n"
     ]
    },
    {
     "name": "stderr",
     "output_type": "stream",
     "text": [
      "100%|██████████| 3000/3000 [00:03<00:00, 834.23it/s]\n"
     ]
    },
    {
     "name": "stdout",
     "output_type": "stream",
     "text": [
      "Using lam_orthog=  88.02995417128182\n",
      "Using device cpu\n"
     ]
    },
    {
     "name": "stderr",
     "output_type": "stream",
     "text": [
      "100%|██████████| 3000/3000 [00:03<00:00, 866.48it/s]\n"
     ]
    }
   ],
   "source": [
    "for lam_sparse in lam_sparse_list: #Loop over lam_sparse values defined in previous cell\n",
    "    \n",
    "    #Declare SCA model without all the optional parameters\n",
    "    sca=SCA(n_components=n_components, lam_sparse=lam_sparse)\n",
    "\n",
    "    #Fit the model and get the low dimensional representation\n",
    "    sca_latent=sca.fit_transform(X=X)\n",
    "    \n",
    "    #Add r2 and reconstruction losses for this lam_sparse to their lists\n",
    "    r2_scores.append(sca.r2_score)\n",
    "    reconstruction_losses.append(sca.reconstruction_loss)"
   ]
  },
  {
   "cell_type": "markdown",
   "metadata": {},
   "source": [
    "# Plot the reconstruction loss as a function of lam_sparse\n",
    "We also plot the reconstruction loss at the default lam_sparse value for reference (in red), to show that lam_sparse can often be increased above that default without a meaningful change in reconstruction loss"
   ]
  },
  {
   "cell_type": "code",
   "execution_count": 10,
   "metadata": {},
   "outputs": [
    {
     "data": {
      "text/plain": [
       "Text(0, 0.5, 'Reconstruction Loss')"
      ]
     },
     "execution_count": 10,
     "metadata": {},
     "output_type": "execute_result"
    },
    {
     "data": {
      "image/png": "[encoded data removed]",
      "text/plain": [
       "<Figure size 432x288 with 1 Axes>"
      ]
     },
     "metadata": {
      "needs_background": "light"
     },
     "output_type": "display_data"
    }
   ],
   "source": [
    "plt.figure()\n",
    "plt.plot(lam_sparse_list,np.min(reconstruction_losses)*np.ones(len(lam_sparse_list)),'k--') #Plot the minimum value as a dashed black horizontal line\n",
    "plt.plot(lam_sparse_list,reconstruction_losses,'x-',color='blue') #Plot all the values from the above loop over models\n",
    "plt.plot(0.019669574184939944,492.9108160024853,'x',color='red') #Plot the default sparsity value for reference (this is taken from the Example_1pop notebook)\n",
    "plt.xscale('log')\n",
    "plt.xlabel('Lam Sparse')\n",
    "plt.ylabel('Reconstruction Loss')"
   ]
  },
  {
   "cell_type": "code",
   "execution_count": null,
   "metadata": {},
   "outputs": [],
   "source": []
  }
 ],
 "metadata": {
  "kernelspec": {
   "display_name": "Python 3",
   "language": "python",
   "name": "python3"
  },
  "language_info": {
   "codemirror_mode": {
    "name": "ipython",
    "version": 3
   },
   "file_extension": ".py",
   "mimetype": "text/x-python",
   "name": "python",
   "nbconvert_exporter": "python",
   "pygments_lexer": "ipython3",
   "version": "3.8.8"
  }
 },
 "nbformat": 4,
 "nbformat_minor": 4
}
