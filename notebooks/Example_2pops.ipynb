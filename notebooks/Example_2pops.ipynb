{
 "cells": [
  {
   "cell_type": "markdown",
   "metadata": {},
   "source": [
    "# Import packages"
   ]
  },
  {
   "cell_type": "code",
   "execution_count": 1,
   "metadata": {},
   "outputs": [
    {
     "name": "stderr",
     "output_type": "stream",
     "text": [
      "/opt/anaconda3/envs/ssa/lib/python3.8/site-packages/tqdm/auto.py:22: TqdmWarning: IProgress not found. Please update jupyter and ipywidgets. See https://ipywidgets.readthedocs.io/en/stable/user_install.html\n",
      "  from .autonotebook import tqdm as notebook_tqdm\n"
     ]
    }
   ],
   "source": [
    "import numpy as np\n",
    "import numpy.random as npr\n",
    "from matplotlib import pyplot as plt\n",
    "%matplotlib inline\n",
    "from scipy.linalg import orth\n",
    "import time\n",
    "\n",
    "from sca.models import fit_sca, weighted_pca, weighted_rrr\n",
    "from sca.util import get_sample_weights"
   ]
  },
  {
   "cell_type": "code",
   "execution_count": 2,
   "metadata": {},
   "outputs": [],
   "source": [
    "# %load_ext autoreload\n",
    "# %autoreload 2"
   ]
  },
  {
   "cell_type": "markdown",
   "metadata": {},
   "source": [
    "# Simulate data"
   ]
  },
  {
   "cell_type": "code",
   "execution_count": 3,
   "metadata": {},
   "outputs": [],
   "source": [
    "#Function that creates a sine wave for a given amount of time (T),\n",
    "#where the number of cycles (c) occurs during that time\n",
    "def create_sine(T,c):\n",
    "    tau=T/(2*np.pi)/c\n",
    "    return np.sin(np.arange(0,T)/tau)"
   ]
  },
  {
   "cell_type": "markdown",
   "metadata": {},
   "source": [
    "#### Generate the simulated data X0 (size [Time x Num_neurons1]) and Y0 (size [Time x Num_neurons2])"
   ]
  },
  {
   "cell_type": "code",
   "execution_count": 4,
   "metadata": {},
   "outputs": [],
   "source": [
    "np.random.seed(0) #To get the same simulated data\n",
    "\n",
    "T=1200 #Time\n",
    "N1=50 #Number of neurons in population 1\n",
    "N2=60 #Number of neurons in population 2\n",
    "R_shared=3 #Number of shared dimensions in lowD representations\n",
    "R1=3 #Number of unshared dimensions in lowD representation of pop 1\n",
    "R2=3 #Number of unshared dimensions in lowD representation of pop 2\n",
    "\n",
    "\n",
    "#Orthogonal matrix that projects low dimensional space to full neural space of pop1\n",
    "U_tmp=orth(npr.randn(R_shared+R1,N1).T).T \n",
    "\n",
    "#Orthogonal matrix that projects low dimensional space to full neural space of pop2\n",
    "V_tmp=orth(npr.randn(R_shared+R2,N2).T).T \n",
    "\n",
    "#Create shared low dimensional space\n",
    "Z_shared=np.zeros([T,R_shared])\n",
    "for i in range(R_shared):\n",
    "    Z_shared[300*i:300*i+500,i]=create_sine(500,i+1)\n",
    "\n",
    "#Create low dimensional spaces unique to each population\n",
    "Zx=npr.randn(T,R1)\n",
    "Zy=npr.randn(T,R2)\n",
    "    \n",
    "#Create high-dimensional neural activity    \n",
    "b1=npr.randn(N1) #Offset of neurons\n",
    "b2=npr.randn(N2) #Offset of neurons\n",
    "\n",
    "X0=Z_shared@U_tmp[:R_shared]+Zx@U_tmp[R_shared:]+b1 #Project into high-dimensional space and add offset\n",
    "Y0=Z_shared@V_tmp[:R_shared]+Zy@V_tmp[R_shared:]+b2 #Project into high-dimensional space and add offset\n",
    "\n",
    "# X0=X0+.1*npr.randn(X0.shape[0],X0.shape[1]) #Add noise\n",
    "# Y0=Y0+.1*npr.randn(Y0.shape[0],Y0.shape[1]) #Add noise"
   ]
  },
  {
   "cell_type": "markdown",
   "metadata": {},
   "source": [
    "# Preprocess data (optional)"
   ]
  },
  {
   "cell_type": "markdown",
   "metadata": {},
   "source": [
    "I have found that the method usually works better when zero-centering the data.\n",
    "\n",
    "In this specific example, if you don't zero-center the data, it will take ~5000 iterations to converge to the ground truth, rather than ~2000."
   ]
  },
  {
   "cell_type": "code",
   "execution_count": 5,
   "metadata": {},
   "outputs": [],
   "source": [
    "# X=np.copy(X0)\n",
    "# Y=np.copy(Y0)\n",
    "\n",
    "\n",
    "X=np.copy(X0-np.mean(X0,axis=0)[None,:])\n",
    "Y=np.copy(Y0-np.mean(Y0,axis=0)[None,:])"
   ]
  },
  {
   "cell_type": "markdown",
   "metadata": {},
   "source": [
    "# Set required model parameters"
   ]
  },
  {
   "cell_type": "code",
   "execution_count": 6,
   "metadata": {},
   "outputs": [],
   "source": [
    "#Number of shared dimensions in the low-D model you're fitting\n",
    "R_est=4"
   ]
  },
  {
   "cell_type": "markdown",
   "metadata": {},
   "source": [
    "# Set optional model parameters"
   ]
  },
  {
   "cell_type": "markdown",
   "metadata": {},
   "source": [
    "All of these have default values, so it's not essential to set them. The values listed below are the default values."
   ]
  },
  {
   "cell_type": "code",
   "execution_count": 7,
   "metadata": {},
   "outputs": [],
   "source": [
    "#Number of epochs of model fitting\n",
    "n_epochs=3000\n",
    "\n",
    "#Learning rate of model fitting\n",
    "lr=.001\n",
    "\n",
    "\n",
    "#I would recommend using the default lambda parameters, at least to start. \n",
    "#When running SCA, it will print what the default values are for the given dataset\n",
    "\n",
    "#Strength of the sparsity penalty\n",
    "lam_sparse=.1\n",
    "\n",
    "#Strength of the orthogonality penality (Note - This is only used in the version without a hard orthogonality constraint)\n",
    "lam_orthog=1"
   ]
  },
  {
   "cell_type": "code",
   "execution_count": 8,
   "metadata": {},
   "outputs": [],
   "source": [
    "#How much to weight each data point in time\n",
    "#(this can be helpful for making sure dimensions still aim to explain time points with low activity)\n",
    "\n",
    "sample_weights=np.ones([X.shape[0],1]) #Weight equally\n",
    "\n",
    "# sample_weights=get_sample_weights(Y) #Weight inversely to norm of activity at each time point"
   ]
  },
  {
   "cell_type": "markdown",
   "metadata": {},
   "source": [
    "# Fit Reduced Rank Regression Model (for comparison)"
   ]
  },
  {
   "cell_type": "code",
   "execution_count": 9,
   "metadata": {},
   "outputs": [],
   "source": [
    "#Fit weighted RRR\n",
    "#Note that this function does not automatically subtract the mean from the data\n",
    "__, U_est_rrr,V_est_rrr,b_rrr = weighted_rrr(X,Y,R_est,sample_weights)\n",
    "\n",
    "#Get the low dimensional representation (the principal components)\n",
    "rrr_latent = X@U_est_rrr"
   ]
  },
  {
   "cell_type": "markdown",
   "metadata": {},
   "source": [
    "# Fit SCA Model"
   ]
  },
  {
   "cell_type": "code",
   "execution_count": 10,
   "metadata": {},
   "outputs": [
    {
     "name": "stdout",
     "output_type": "stream",
     "text": [
      "Using lam_sparse=  0.2499777786100312\n",
      "Using lam_orthog=  2932.198124927142\n",
      "Using device cpu\n"
     ]
    },
    {
     "name": "stderr",
     "output_type": "stream",
     "text": [
      "100%|██████████| 3000/3000 [00:03<00:00, 797.22it/s]\n"
     ]
    },
    {
     "data": {
      "text/plain": [
       "Text(0.5, 1.0, 'Loss over training')"
      ]
     },
     "execution_count": 10,
     "metadata": {},
     "output_type": "execute_result"
    },
    {
     "data": {
      "image/png": "[encoded data removed]",
      "text/plain": [
       "<Figure size 432x288 with 1 Axes>"
      ]
     },
     "metadata": {
      "needs_background": "light"
     },
     "output_type": "display_data"
    }
   ],
   "source": [
    "#Fit SCA with orthogonality constraint without all the optional parameters\n",
    "# model, latent, y_pred, losses = fit_sca(X=X,Y=Y,R=R_est)\n",
    "\n",
    "#Fit SCA with orthogonality constraint\n",
    "# model, latent, y_pred, losses = fit_sca(X=X,Y=Y,R=R_est,sample_weight=sample_weights,lam_sparse=lam_sparse,lr=lr,n_epochs=n_epochs)\n",
    "\n",
    "\n",
    "#Fit SCA with orthogonality penalty (rather than constraint) without all the optional parameters\n",
    "model, latent, y_pred, losses = fit_sca(X=X,Y=Y,R=R_est,orth=False)\n",
    "\n",
    "#Fit SCA with orthogonality penalty (rather than constraint)\n",
    "# model, latent, y_pred, losses = fit_sca(X=X,Y=Y,R=R_est,orth=False,sample_weight=sample_weights,lam_sparse=lam_sparse,lr=lr,n_epochs=n_epochs,lam_orthog=lam_orthog)\n",
    "\n",
    "\n",
    "\n",
    "#Get the low dimensional representation\n",
    "sca_latent=latent.detach().numpy()\n",
    "\n",
    "\n",
    "\n",
    "#Plot the loss over all iterations\n",
    "plt.figure()\n",
    "plt.plot(losses)\n",
    "plt.xlabel('Training Epoch')\n",
    "plt.ylabel('Loss')\n",
    "plt.title('Loss over training')\n",
    "\n",
    "#Plot the loss over the last 100 iterations (to see if it has truly hit a plateau)\n",
    "# plt.figure()\n",
    "# plt.plot(losses[-100:-1])\n",
    "# plt.xlabel('Training Epoch')\n",
    "# plt.ylabel('Loss')"
   ]
  },
  {
   "cell_type": "markdown",
   "metadata": {},
   "source": [
    "# Plot results"
   ]
  },
  {
   "cell_type": "markdown",
   "metadata": {},
   "source": [
    "### Plot unordered lowD representations"
   ]
  },
  {
   "cell_type": "code",
   "execution_count": 11,
   "metadata": {},
   "outputs": [
    {
     "data": {
      "text/plain": [
       "Text(0.5, 1.0, 'RRR LowD Projections')"
      ]
     },
     "execution_count": 11,
     "metadata": {},
     "output_type": "execute_result"
    },
    {
     "data": {
      "image/png": "[encoded data removed]",
      "text/plain": [
       "<Figure size 1080x360 with 12 Axes>"
      ]
     },
     "metadata": {
      "needs_background": "light"
     },
     "output_type": "display_data"
    }
   ],
   "source": [
    "#Ground truth\n",
    "Z_extra=np.zeros([T,R_est])\n",
    "Z_extra[:,:R_shared]=Z_shared\n",
    "\n",
    "\n",
    "plt.figure(figsize=(15,5))\n",
    "for i in range(R_est):\n",
    "    \n",
    "    #Plot ground truth\n",
    "    plt.subplot(R_est,3,3*i+1)\n",
    "    plt.plot((Z_extra)[:,i]) \n",
    "    \n",
    "    plt.ylim([-1.1, 1.1])\n",
    "    plt.yticks([])\n",
    "    if i<R_est-1:\n",
    "        plt.xticks([])\n",
    "    else:\n",
    "        plt.xlabel('Time')\n",
    "    \n",
    "    # Plot SCA results\n",
    "    plt.subplot(R_est,3,3*i+2)\n",
    "    plt.plot(sca_latent[:,i])\n",
    "    \n",
    "    plt.ylim([-1.1, 1.1])\n",
    "    plt.yticks([])    \n",
    "    if i<R_est-1:\n",
    "        plt.xticks([])\n",
    "    else:\n",
    "        plt.xlabel('Time')\n",
    "\n",
    "    # Plot PCA results\n",
    "    plt.subplot(R_est,3,3*i+3)\n",
    "    plt.plot(rrr_latent[:,i])\n",
    "    \n",
    "    plt.ylim([-1.1, 1.1])\n",
    "    plt.yticks([])\n",
    "    if i<R_est-1:\n",
    "        plt.xticks([])\n",
    "    else:\n",
    "        plt.xlabel('Time')        \n",
    "\n",
    "#Titles\n",
    "plt.subplot(R_est,3,1)\n",
    "plt.title('True LowD Projections')\n",
    "\n",
    "plt.subplot(R_est,3,2)\n",
    "plt.title('SCA LowD Projections')\n",
    "\n",
    "plt.subplot(R_est,3,3)\n",
    "plt.title('RRR LowD Projections')\n"
   ]
  },
  {
   "cell_type": "code",
   "execution_count": null,
   "metadata": {},
   "outputs": [],
   "source": []
  }
 ],
 "metadata": {
  "kernelspec": {
   "display_name": "Python 3",
   "language": "python",
   "name": "python3"
  },
  "language_info": {
   "codemirror_mode": {
    "name": "ipython",
    "version": 3
   },
   "file_extension": ".py",
   "mimetype": "text/x-python",
   "name": "python",
   "nbconvert_exporter": "python",
   "pygments_lexer": "ipython3",
   "version": "3.8.8"
  }
 },
 "nbformat": 4,
 "nbformat_minor": 4
}
